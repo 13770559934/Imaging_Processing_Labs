{
 "cells": [
  {
   "cell_type": "markdown",
   "id": "87bc8eb8-c2da-4490-ac1b-2ed4bad2eabb",
   "metadata": {
    "tags": []
   },
   "source": [
    "# PyTorch Computational Flow Graph\n",
    "\n",
    "This short demo \"implements\" the computational flow graph example of Chapter 8,\n",
    "Section 8.2.1, using PyTorch, one of the most popular deep learning frameworks.\n",
    "There is a video that accompanies this demo, but please read this ALONGSIDE\n",
    "the Chapter 8 material, where the Chain Rule and Computational Flow Graph (CFG) are\n",
    "discussed. You will see that the values in red on the CFG of Figure 8.7 in the\n",
    "lecture notes can be reproduced here by PyTorch exactly.\n",
    "\n",
    "### Required Installation\n",
    "You need to install PyTorch. You can find installation and full documentation at:\n",
    "    https://pytorch.org/\n",
    "\n",
    "Do this WITHOUT GPU support (there is no need for a GPU here!),\n",
    "unless you already have a working installation of PyTorch with GPU.\n",
    "\n",
    "### Alternative\n",
    "You can simply use Google Collab to run this example."
   ]
  },
  {
   "cell_type": "code",
   "execution_count": 2,
   "id": "b38142d4-e9b0-4edc-a445-4d01e27d189c",
   "metadata": {},
   "outputs": [],
   "source": [
    "import torch as T\n",
    "import numpy as np"
   ]
  },
  {
   "cell_type": "markdown",
   "id": "5a984631-6e82-4377-8eeb-7f6506709324",
   "metadata": {},
   "source": [
    "Below, we define our torch variables, which will be Python numpy variable\n",
    "with additional gradient information; together the object type is know as\n",
    "a Torch Tensor"
   ]
  },
  {
   "cell_type": "code",
   "execution_count": 3,
   "id": "cc9063da-b12b-4790-8d23-fba57707e223",
   "metadata": {},
   "outputs": [],
   "source": [
    "# These are taken from the same example calculation (Eqn 8.3) of the lecture notes\n",
    "x1 = T.tensor([], dtype=float, requires_grad=True)\n",
    "y1 = T.tensor([], dtype=float, requires_grad=True)\n",
    "theta = T.tensor([], dtype=float, requires_grad=True)\n",
    "# create verible here???"
   ]
  },
  {
   "cell_type": "markdown",
   "id": "1b4b1eae-e553-4f26-a680-acbc24d9a3bb",
   "metadata": {},
   "source": [
    "Below, we have the definition of the forward pass. Note that this is\n",
    "just a simple example that could be extended to be applied to a\n",
    "set of layered neurons"
   ]
  },
  {
   "cell_type": "code",
   "execution_count": 30,
   "id": "93607b03-2cb4-4a04-94aa-59a265c2c81e",
   "metadata": {},
   "outputs": [],
   "source": [
    "# This is the same example calculation of the lecture notes\n",
    "# x2 = x1 cos(theta) + y1 sin(theta)\n",
    "def forward(x1,y1,theta):\n",
    "    \n",
    "    u7 = theta\n",
    "    u8 = theta\n",
    "    \n",
    "    u3 = x1\n",
    "    u6 = y1\n",
    "    \n",
    "    u4 = T.cos(u7)  # These are Torch vs numpy functions\n",
    "    u5 = T.sin(u8)\n",
    "    \n",
    "    u1 = u4*u3\n",
    "    u2 = u5*u6\n",
    "    \n",
    "    u1.retain_grad()\n",
    "    u2.retain_grad()\n",
    "    u4.retain_grad()\n",
    "    u5.retain_grad()\n",
    "    u7.retain_grad()\n",
    "    u8.retain_grad()\n",
    "    \n",
    "    x2 = u1 + u2\n",
    "    \n",
    "    # Pack all into structure\n",
    "    MyCalculation={\n",
    "        'u1': u1,\n",
    "        'u2': u2,\n",
    "        'u3': u3,\n",
    "        'u4': u4,\n",
    "        'u5': u5,\n",
    "        'u6': u6,\n",
    "        'u7': u7,\n",
    "        'u8': u8\n",
    "    }\n",
    "    \n",
    "    return x2, MyCalculation"
   ]
  },
  {
   "cell_type": "code",
   "execution_count": 31,
   "id": "80c71e3a-483d-4823-b9d3-72d4985ea8e2",
   "metadata": {},
   "outputs": [],
   "source": [
    "x2, MyCalculation = forward(T.tensor(3.0, requires_grad=True),T.tensor(4.0,requires_grad=True),T.tensor(np.pi/4,requires_grad=True))"
   ]
  },
  {
   "cell_type": "code",
   "execution_count": 32,
   "id": "0b1525a1-4166-4909-a701-e9d0344b4460",
   "metadata": {},
   "outputs": [
    {
     "data": {
      "text/plain": [
       "tensor(4.9497, grad_fn=<AddBackward0>)"
      ]
     },
     "execution_count": 32,
     "metadata": {},
     "output_type": "execute_result"
    }
   ],
   "source": [
    "x2"
   ]
  },
  {
   "cell_type": "code",
   "execution_count": 33,
   "id": "cfad74a2-735e-49a5-962a-8a364c67d466",
   "metadata": {},
   "outputs": [],
   "source": [
    "x2.backward()"
   ]
  },
  {
   "cell_type": "code",
   "execution_count": 34,
   "id": "143e66bd-8b7d-4814-b884-f17137f4ba6e",
   "metadata": {},
   "outputs": [
    {
     "data": {
      "text/plain": [
       "tensor(0.7071)"
      ]
     },
     "execution_count": 34,
     "metadata": {},
     "output_type": "execute_result"
    }
   ],
   "source": [
    "MyCalculation['u6'].grad # Select any \"u\" you want; compare with red values from Fig 8.7."
   ]
  },
  {
   "cell_type": "markdown",
   "id": "884bdf1b-fc45-43a6-9f6d-e595ac0b6703",
   "metadata": {},
   "source": [
    "## Now, for a second example\n",
    "\n",
    "Note that this second example corresponds to Eqn 8.4 in the Lecture notes...."
   ]
  },
  {
   "cell_type": "code",
   "execution_count": 24,
   "id": "aaff7e64-8a1b-4c7a-931b-f33e2c098dc4",
   "metadata": {},
   "outputs": [],
   "source": [
    "# y2 = y1 cos(theta) - x1 sin(theta)\n",
    "def forward(x1,y1,theta):\n",
    "    \n",
    "    u7 = theta\n",
    "    u8 = theta\n",
    "    \n",
    "    u3 = x1\n",
    "    u6 = y1\n",
    "    \n",
    "    u4 = T.sin(u7)  \n",
    "    u5 = T.cos(u8)\n",
    "    \n",
    "    u1 = u4*u3\n",
    "    u2 = u5*u6\n",
    "    \n",
    "    u1.retain_grad()\n",
    "    u2.retain_grad()\n",
    "    u4.retain_grad()\n",
    "    u5.retain_grad()\n",
    "    u7.retain_grad()\n",
    "    u8.retain_grad()\n",
    "    \n",
    "    y2 = u2 - u1\n",
    "    \n",
    "    # Pack all into structure\n",
    "    MyCalculation={\n",
    "        'u1': u1,\n",
    "        'u2': u2,\n",
    "        'u3': u3,\n",
    "        'u4': u4,\n",
    "        'u5': u5,\n",
    "        'u6': u6,\n",
    "        'u7': u7,\n",
    "        'u8': u8\n",
    "    }\n",
    "    \n",
    "    return y2, MyCalculation"
   ]
  },
  {
   "cell_type": "code",
   "execution_count": 25,
   "id": "284337fa-349c-423c-8e72-e1d1916381af",
   "metadata": {},
   "outputs": [],
   "source": [
    "y2, MyCalculation = forward(T.tensor(3.0, requires_grad=True),T.tensor(4.0,requires_grad=True),T.tensor(np.pi/4,requires_grad=True))\n",
    "y2.backward()"
   ]
  },
  {
   "cell_type": "code",
   "execution_count": 26,
   "id": "07d1af24-8336-48b1-b582-2bdff1d366dd",
   "metadata": {},
   "outputs": [
    {
     "data": {
      "text/plain": [
       "tensor(0.7071, grad_fn=<SubBackward0>)"
      ]
     },
     "execution_count": 26,
     "metadata": {},
     "output_type": "execute_result"
    }
   ],
   "source": [
    "y2"
   ]
  },
  {
   "cell_type": "code",
   "execution_count": 27,
   "id": "c738ec39-70fe-473c-b594-3270afc0fee7",
   "metadata": {},
   "outputs": [
    {
     "data": {
      "text/plain": [
       "tensor(2.1213, grad_fn=<MulBackward0>)"
      ]
     },
     "execution_count": 27,
     "metadata": {},
     "output_type": "execute_result"
    }
   ],
   "source": [
    "MyCalculation['u1']"
   ]
  },
  {
   "cell_type": "code",
   "execution_count": null,
   "id": "f778f98a-47c3-470d-903f-0fc4f86a8b10",
   "metadata": {},
   "outputs": [],
   "source": []
  }
 ],
 "metadata": {
  "kernelspec": {
   "display_name": "Python 3",
   "language": "python",
   "name": "python3"
  },
  "language_info": {
   "codemirror_mode": {
    "name": "ipython",
    "version": 3
   },
   "file_extension": ".py",
   "mimetype": "text/x-python",
   "name": "python",
   "nbconvert_exporter": "python",
   "pygments_lexer": "ipython3",
   "version": "3.8.undefined"
  }
 },
 "nbformat": 4,
 "nbformat_minor": 5
}
